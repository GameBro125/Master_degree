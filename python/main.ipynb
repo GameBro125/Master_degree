{
 "cells": [
  {
   "cell_type": "code",
   "execution_count": 5,
   "metadata": {},
   "outputs": [
    {
     "name": "stdout",
     "output_type": "stream",
     "text": [
      "Requirement already satisfied: Flask in c:\\users\\wladislaw\\appdata\\local\\programs\\python\\python313\\lib\\site-packages (3.0.3)Note: you may need to restart the kernel to use updated packages.\n"
     ]
    },
    {
     "name": "stderr",
     "output_type": "stream",
     "text": [
      "\n",
      "[notice] A new release of pip is available: 24.2 -> 24.3.1\n",
      "[notice] To update, run: python.exe -m pip install --upgrade pip\n"
     ]
    },
    {
     "name": "stdout",
     "output_type": "stream",
     "text": [
      "\n",
      "Requirement already satisfied: Werkzeug>=3.0.0 in c:\\users\\wladislaw\\appdata\\local\\programs\\python\\python313\\lib\\site-packages (from Flask) (3.1.0)\n",
      "Requirement already satisfied: Jinja2>=3.1.2 in c:\\users\\wladislaw\\appdata\\local\\programs\\python\\python313\\lib\\site-packages (from Flask) (3.1.4)\n",
      "Requirement already satisfied: itsdangerous>=2.1.2 in c:\\users\\wladislaw\\appdata\\local\\programs\\python\\python313\\lib\\site-packages (from Flask) (2.2.0)\n",
      "Requirement already satisfied: click>=8.1.3 in c:\\users\\wladislaw\\appdata\\local\\programs\\python\\python313\\lib\\site-packages (from Flask) (8.1.7)\n",
      "Requirement already satisfied: blinker>=1.6.2 in c:\\users\\wladislaw\\appdata\\local\\programs\\python\\python313\\lib\\site-packages (from Flask) (1.8.2)\n",
      "Requirement already satisfied: colorama in c:\\users\\wladislaw\\appdata\\roaming\\python\\python313\\site-packages (from click>=8.1.3->Flask) (0.4.6)\n",
      "Requirement already satisfied: MarkupSafe>=2.0 in c:\\users\\wladislaw\\appdata\\local\\programs\\python\\python313\\lib\\site-packages (from Jinja2>=3.1.2->Flask) (3.0.2)\n"
     ]
    }
   ],
   "source": [
    "pip install Flask"
   ]
  },
  {
   "cell_type": "code",
   "execution_count": null,
   "metadata": {},
   "outputs": [
    {
     "name": "stdout",
     "output_type": "stream",
     "text": [
      " * Serving Flask app '__main__'\n",
      " * Debug mode: off\n"
     ]
    },
    {
     "name": "stderr",
     "output_type": "stream",
     "text": [
      "WARNING: This is a development server. Do not use it in a production deployment. Use a production WSGI server instead.\n",
      " * Running on all addresses (0.0.0.0)\n",
      " * Running on http://127.0.0.1:8080\n",
      " * Running on http://192.168.31.81:8080\n",
      "Press CTRL+C to quit\n"
     ]
    }
   ],
   "source": [
    "import json\n",
    "from flask import Flask, request, jsonify\n",
    "import math\n",
    "\n",
    "app = Flask(__name__)\n",
    "DATA_FILE = \"C:\\\\Users\\\\Wladislaw\\\\Desktop\\\\magnetic_field_data.txt\"\n",
    "\n",
    "def save_data_to_file(data):\n",
    "    # Записываем данные в текстовый файл\n",
    "    with open(DATA_FILE, \"a\") as file:\n",
    "        file.write(json.dumps(data) + \"\\n\")  # Записываем данные в формате JSON\n",
    "\n",
    "@app.route('/magnetic-field', methods=['POST'])\n",
    "def get_magnetic_field():\n",
    "    data = request.json  # Получаем JSON из POST-запроса\n",
    "    \n",
    "    if 'x' not in data or 'y' not in data or 'z' not in data:\n",
    "        return jsonify({\"error\": \"Invalid data\"}), 400\n",
    "\n",
    "    x = data['x']\n",
    "    y = data['y']\n",
    "    z = data['z']\n",
    "\n",
    "    # Вычисляем вектор магнитного поля\n",
    "    vector = math.sqrt(x * x + y * y + z * z)\n",
    "    response_data = {\"x\": x, \"y\": y, \"z\": z, \"vector\": vector}\n",
    "\n",
    "    save_data_to_file(response_data)\n",
    "    return jsonify({\"vector\": vector})\n",
    "\n",
    "if __name__ == '__main__':\n",
    "    app.run(host='0.0.0.0', port=5000)"
   ]
  }
 ],
 "metadata": {
  "kernelspec": {
   "display_name": "Python 3",
   "language": "python",
   "name": "python3"
  },
  "language_info": {
   "codemirror_mode": {
    "name": "ipython",
    "version": 3
   },
   "file_extension": ".py",
   "mimetype": "text/x-python",
   "name": "python",
   "nbconvert_exporter": "python",
   "pygments_lexer": "ipython3",
   "version": "3.13.0"
  }
 },
 "nbformat": 4,
 "nbformat_minor": 2
}
